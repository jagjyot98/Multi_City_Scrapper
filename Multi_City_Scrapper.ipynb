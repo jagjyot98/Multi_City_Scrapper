{
 "cells": [
  {
   "cell_type": "code",
   "execution_count": 1,
   "metadata": {},
   "outputs": [],
   "source": [
    "import pandas as pd\n",
    "import requests\n",
    "from bs4 import BeautifulSoup\n",
    "import matplotlib.pyplot as plt"
   ]
  },
  {
   "cell_type": "code",
   "execution_count": 2,
   "metadata": {},
   "outputs": [
    {
     "name": "stdout",
     "output_type": "stream",
     "text": [
      "                                              Places Temperature Air Pressure  \\\n",
      "0  DITE Okhla, Delhi Air Pollution: Real-time Air...          29          988   \n",
      "1  Chhatrapati Shivaji Intl. Airport (T2), Mumbai...          29         1003   \n",
      "2  Zoo Park, Bahadurpura West, Hyderabad Air Poll...          32          708   \n",
      "\n",
      "  Humidity PM2.5 PM10                        Quality O3 NO2 SO2  CO  \n",
      "0       29   127  106  Unhealthyfor Sensitive Groups  1  40   8  14  \n",
      "1       72    98   84                       Moderate  9  12   5   4  \n",
      "2       29   162   56                      Unhealthy  6  36   2   6  \n"
     ]
    }
   ],
   "source": [
    "place = []\n",
    "temp = []\n",
    "presr = []\n",
    "hum = []\n",
    "aqi = []\n",
    "quality = []\n",
    "pm25 = []\n",
    "pm10 = []\n",
    "o3 = []\n",
    "no2 = []\n",
    "so2 = []\n",
    "co = []\n",
    "\n",
    "def city(X):\n",
    "    page = requests.get(X)\n",
    "    soup = BeautifulSoup(page.content,'html.parser')\n",
    "\n",
    "    place.append(soup.find(id='h1header1').get_text())\n",
    "    #print(place.get_text())\n",
    "\n",
    "    temp.append(soup.find(id='cur_t').get_text())\n",
    "    #print(temp.get_text())\n",
    "\n",
    "    presr.append(soup.find(id='cur_p').get_text())\n",
    "    #print(presr.get_text())\n",
    "\n",
    "    hum.append(soup.find(id='cur_h').get_text())\n",
    "    #print(hum.get_text())\n",
    "\n",
    "    aqi.append(soup.find(id='aqiwgtvalue').get_text())\n",
    "    #print(aqi.get_text())\n",
    "\n",
    "    quality.append(soup.find(id='aqiwgtinfo').get_text())\n",
    "    #print(quality.get_text())\n",
    "\n",
    "    pm25.append(soup.find(id='cur_pm25').get_text())\n",
    "    #print(pm10.get_text())\n",
    "\n",
    "    pm10.append(soup.find(id='cur_pm10').get_text())\n",
    "    #print(pm10.get_text())\n",
    "\n",
    "    o3.append(soup.find(id='cur_o3').get_text())\n",
    "    #print(o3.get_text())\n",
    "\n",
    "    no2.append(soup.find(id='cur_no2').get_text())\n",
    "    #print(no2.get_text())\n",
    "\n",
    "    so2.append(soup.find(id='cur_so2').get_text())\n",
    "    #print(so2.get_text())\n",
    "\n",
    "    co.append(soup.find(id='cur_co').get_text())\n",
    "    #print(co.get_text())\n",
    "    \n",
    "city('https://aqicn.org/city/delhi/dite-okhla/');\n",
    "city('https://aqicn.org/city/india/mumbai/chhatrapati-shivaji-intl.-airport-t2');\n",
    "city('https://aqicn.org/city/india/hyderabad/zoo-park--bahadurpura-west')    \n",
    "\n",
    "attributes = ['Place','Temperature','Air Pressure','Humidity','PM2.5','Quality','PM10','O3','NO2','SO2','CO']\n",
    "values = [place,temp,presr,hum,pm25,quality,pm10,o3,no2,so2,co]\n",
    "\n",
    "weather_stf = pd.DataFrame(\n",
    "    {\n",
    "      'Places':place,\n",
    "        'Temperature':temp,\n",
    "        'Air Pressure':presr,\n",
    "        'Humidity':hum,\n",
    "        'PM2.5':pm25,\n",
    "        'PM10':pm10,\n",
    "        'Quality':quality,\n",
    "        'O3':o3,\n",
    "        'NO2':no2,\n",
    "        'SO2':so2,\n",
    "        'CO':co,\n",
    "    })\n",
    "\n",
    "print(weather_stf)\n",
    "\n",
    "weather_stf.to_csv('Weather1.csv')\n"
   ]
  },
  {
   "cell_type": "code",
   "execution_count": 25,
   "metadata": {},
   "outputs": [
    {
     "ename": "AttributeError",
     "evalue": "'NoneType' object has no attribute 'get_text'",
     "output_type": "error",
     "traceback": [
      "\u001b[1;31m---------------------------------------------------------------------------\u001b[0m",
      "\u001b[1;31mAttributeError\u001b[0m                            Traceback (most recent call last)",
      "\u001b[1;32m<ipython-input-25-6ecd1910edc1>\u001b[0m in \u001b[0;36m<module>\u001b[1;34m\u001b[0m\n\u001b[0;32m     22\u001b[0m \u001b[0mmnset\u001b[0m \u001b[1;33m=\u001b[0m \u001b[0mtoday\u001b[0m\u001b[1;33m.\u001b[0m\u001b[0mfind\u001b[0m\u001b[1;33m(\u001b[0m\u001b[0mclass_\u001b[0m\u001b[1;33m=\u001b[0m\u001b[1;34m'right-box-equal moon-set'\u001b[0m\u001b[1;33m)\u001b[0m\u001b[1;33m\u001b[0m\u001b[1;33m\u001b[0m\u001b[0m\n\u001b[0;32m     23\u001b[0m \u001b[1;33m\u001b[0m\u001b[0m\n\u001b[1;32m---> 24\u001b[1;33m \u001b[0mprint\u001b[0m\u001b[1;33m(\u001b[0m\u001b[0mobtime\u001b[0m\u001b[1;33m.\u001b[0m\u001b[0mget_text\u001b[0m\u001b[1;33m(\u001b[0m\u001b[1;33m)\u001b[0m\u001b[1;33m)\u001b[0m\u001b[1;33m\u001b[0m\u001b[1;33m\u001b[0m\u001b[0m\n\u001b[0m",
      "\u001b[1;31mAttributeError\u001b[0m: 'NoneType' object has no attribute 'get_text'"
     ]
    }
   ],
   "source": [
    "#def stock(X):\n",
    "page = requests.get('https://mausam.imd.gov.in/')\n",
    "soup = BeautifulSoup(page.content,'html.parser')\n",
    "\n",
    "today = soup.find(id='city_weather')\n",
    "\n",
    "place = today.find(id='label')\n",
    "\n",
    "temp = today.find(id='temperature')\n",
    "\n",
    "hum = today.find(id='temperature1')\n",
    "\n",
    "obtime_open = today.find(id='label')\n",
    "obtime = obtime_open.find(class_='small')\n",
    "\n",
    "snrise = today.find(class_='right-box-equal sun-rise')\n",
    "\n",
    "snset = today.find(class_='right-box-equal sun-set')\n",
    "\n",
    "mnrise = today.find(class_='right-box-equal moon-rise')\n",
    "\n",
    "mnset = today.find(class_='right-box-equal moon-set')\n",
    "\n",
    "print(obtime.get_text())"
   ]
  },
  {
   "cell_type": "code",
   "execution_count": null,
   "metadata": {},
   "outputs": [],
   "source": []
  }
 ],
 "metadata": {
  "kernelspec": {
   "display_name": "Python 3",
   "language": "python",
   "name": "python3"
  },
  "language_info": {
   "codemirror_mode": {
    "name": "ipython",
    "version": 3
   },
   "file_extension": ".py",
   "mimetype": "text/x-python",
   "name": "python",
   "nbconvert_exporter": "python",
   "pygments_lexer": "ipython3",
   "version": "3.7.6"
  }
 },
 "nbformat": 4,
 "nbformat_minor": 4
}
